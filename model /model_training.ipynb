{
  "cells": [
    {
      "cell_type": "code",
      "execution_count": 1,
      "id": "780fa929",
      "metadata": {},
      "outputs": [],
      "source": [
        "\n",
        "import os\n",
        "import numpy as np\n",
        "import pandas as pd\n",
        "import matplotlib.pyplot as plt\n",
        "from sklearn.model_selection import train_test_split\n",
        "from sklearn.preprocessing import LabelEncoder\n",
        "import pickle\n"
      ]
    },
    {
      "cell_type": "code",
      "execution_count": 2,
      "id": "a1bc9493",
      "metadata": {},
      "outputs": [],
      "source": [
        "from sklearn.feature_extraction.text import TfidfVectorizer\n",
        "from sklearn.metrics.pairwise import cosine_similarity\n",
        "from surprise import Reader, SVD, KNNBasic, Dataset\n",
        "from surprise.model_selection import train_test_split as surprise_train_test_split\n",
        "from surprise.accuracy import rmse"
      ]
    },
    {
      "cell_type": "code",
      "execution_count": 3,
      "id": "c74b85e2",
      "metadata": {},
      "outputs": [],
      "source": [
        "TOP_N = 5\n",
        "ALPHA = 0.6 # Weight for collaborative filtering (CF), (1 - ALPHA) for content-based"
      ]
    },
    {
      "cell_type": "code",
      "execution_count": 4,
      "id": "b0b4bada",
      "metadata": {},
      "outputs": [],
      "source": [
        "Movies = pd.read_csv(\"/Users/sarthakjain/Desktop/Movie recommendation/model /dataset/Movies.csv\", names=['MovieId','title','genres'])\n",
        "ratings = pd.read_csv(\"/Users/sarthakjain/Desktop/Movie recommendation/model /dataset/ratings.csv\", names=['userId','MovieId','rating','timestamp'])\n",
        "tags = pd.read_csv(\"/Users/sarthakjain/Desktop/Movie recommendation/model /dataset/tags.csv\", names=['userId','MovieId','tag','timestamp'])"
      ]
    },
    {
      "cell_type": "code",
      "execution_count": 5,
      "id": "a2683f4c",
      "metadata": {},
      "outputs": [],
      "source": [
        "Movies.drop(index=0, inplace=True)\n",
        "ratings.drop(index=0, inplace=True)\n",
        "tags.drop(index=0, inplace=True)"
      ]
    },
    {
      "cell_type": "code",
      "execution_count": 6,
      "id": "4755b57e",
      "metadata": {},
      "outputs": [],
      "source": [
        "# --- 3. Type Conversion for ALL Relevant Columns (Crucial Fix) ---\n",
        "Movies[\"MovieId\"] = Movies[\"MovieId\"].astype(int)\n",
        "ratings[\"MovieId\"] = ratings[\"MovieId\"].astype(int)\n",
        "tags[\"MovieId\"] = tags[\"MovieId\"].astype(int) # Still convert tags for consistency, even if not used in content\n",
        "\n",
        "ratings[\"rating\"] = pd.to_numeric(ratings[\"rating\"], errors='coerce')\n",
        "ratings = ratings.dropna(subset=[\"rating\"]).copy()\n",
        "ratings[\"userId\"] = ratings[\"userId\"].astype(int)"
      ]
    },
    {
      "cell_type": "code",
      "execution_count": 7,
      "id": "e7a3e4e0",
      "metadata": {},
      "outputs": [],
      "source": [
        "# --- 4. Process Content (Genres ONLY) ---\n",
        "# Combine genres into a single content field\n",
        "# genres are pipe-separated, so ' '.join(x.split('|')) works well\n",
        "Movies[\"content\"] = Movies[\"genres\"].apply(lambda x:\" \".join(x.split('|')))\n",
        "\n",
        "# Now, if you want to remove the original 'genres' column from 'Movies', you can:\n",
        "Movies.drop(columns=['genres'], inplace=True)\n"
      ]
    },
    {
      "cell_type": "code",
      "execution_count": null,
      "id": "52d8cb3a",
      "metadata": {},
      "outputs": [],
      "source": [
        "\n",
        "# This step ensures your ratings only refer to Movies present in your Movies DataFrame\n",
        "available_Movie_ids_in_content = set(Movies['MovieId'].unique())\n",
        "ratings_filtered = ratings[ratings['MovieId'].isin(available_Movie_ids_in_content)].copy()\n",
        "\n"
      ]
    },
    {
      "cell_type": "code",
      "execution_count": 9,
      "id": "5452483c",
      "metadata": {},
      "outputs": [],
      "source": [
        "# ------------------ CONTENT MODEL ------------------\n",
        "tfidf = TfidfVectorizer(stop_words='english', min_df=0.1, max_df=0.9, ngram_range=(1,3))\n",
        "tfidf_matrix = tfidf.fit_transform(Movies[\"content\"])\n",
        "content_sim = cosine_similarity(tfidf_matrix, tfidf_matrix)\n",
        "\n",
        "Movie_ids = Movies[\"MovieId\"].tolist()\n",
        "Movie_id_to_idx = {Movie_id: idx for idx, Movie_id in enumerate(Movie_ids)}"
      ]
    },
    {
      "cell_type": "code",
      "execution_count": 10,
      "id": "a9a5fe33",
      "metadata": {},
      "outputs": [
        {
          "name": "stdout",
          "output_type": "stream",
          "text": [
            "Loading optimized SVD model from: trained_models/best_svd_model_gs.joblib\n"
          ]
        }
      ],
      "source": [
        "# ------------------ SVD MODEL ------------------\n",
        "from surprise.model_selection import GridSearchCV\n",
        "import joblib\n",
        "reader = Reader(rating_scale=(0.5, 5.0))\n",
        "data = Dataset.load_from_df(ratings[['userId', 'MovieId', 'rating']], reader)\n",
        "surprise_trainset, surprise_testset = surprise_train_test_split(data, test_size=0.2, random_state=42)\n",
        "\n",
        "# --- Hyperparameter Tuning (GridSearchCV) ---\n",
        "# Define the path where you'll save your best SVD model\n",
        "model_dir = 'trained_models'\n",
        "os.makedirs(model_dir, exist_ok=True) # Ensure the directory exists\n",
        "svd_model_path = os.path.join(model_dir, 'best_svd_model_gs.joblib')\n",
        "svd = None # Initialize svd variable\n",
        "\n",
        "# Check if the optimized SVD model already exists on disk\n",
        "if os.path.exists(svd_model_path):\n",
        "    print(f\"Loading optimized SVD model from: {svd_model_path}\")\n",
        "    svd = joblib.load(svd_model_path)\n",
        "else:\n",
        "    print(\"Optimized SVD model not found. Running GridSearchCV (this may take a while)...\")\n",
        "    param_grid = {'n_factors': [50, 100, 150],\n",
        "                  'n_epochs': [20, 30],\n",
        "                  'lr_all': [0.005, 0.01],\n",
        "                  'reg_all': [0.02, 0.05]}\n",
        "\n",
        "    gs = GridSearchCV(SVD, param_grid, measures=['rmse'], cv=5, n_jobs=-1)\n",
        "    # Fit GridSearchCV on the FULL 'data' (not just trainset) to find the best parameters\n",
        "    # The best_estimator will then be trained on this full data.\n",
        "    gs.fit(data)\n",
        "\n",
        "    print(f\"Best RMSE score for SVD: {gs.best_score['rmse']:.4f}\")\n",
        "    print(f\"Best parameters for SVD: {gs.best_params['rmse']}\")\n",
        "\n",
        "    # Get the best estimator from GridSearchCV (already trained on 'data' internally)\n",
        "    svd = gs.best_estimator['rmse']\n",
        "\n",
        "    # Save the best SVD model to avoid re-running GridSearchCV\n",
        "    joblib.dump(svd, svd_model_path)\n",
        "    print(f\"Optimized SVD model saved to: {svd_model_path}\")\n",
        "    \n",
        "\n",
        "\n",
        "\n",
        "\n",
        "\n",
        "\n",
        "# svd = SVD()\n",
        "# svd.fit(surprise_trainset)\n",
        "# predictions_svd = svd.test(surprise_testset)\n",
        "# print(\"SVD RMSE:\", rmse(predictions_svd))"
      ]
    },
    {
      "cell_type": "code",
      "execution_count": 11,
      "id": "7eb6031a",
      "metadata": {},
      "outputs": [
        {
          "name": "stdout",
          "output_type": "stream",
          "text": [
            "RMSE: 0.8625\n",
            "SVD RMSE: 0.8624964069105703\n"
          ]
        }
      ],
      "source": [
        "\n",
        "svd.fit(surprise_trainset)\n",
        "predictions_svd = svd.test(surprise_testset)\n",
        "print(\"SVD RMSE:\", rmse(predictions_svd))"
      ]
    },
    {
      "cell_type": "code",
      "execution_count": 12,
      "id": "d4d09f59",
      "metadata": {},
      "outputs": [],
      "source": [
        "# ------------------ RECOMMENDATION FUNCTIONS ------------------\n",
        "def get_content_scores(user_likes):\n",
        "    scores = np.zeros(len(Movies))\n",
        "    valid_liked_count = 0 # Added this for debugging\n",
        "    for liked_id in user_likes:\n",
        "        if liked_id in Movie_id_to_idx:\n",
        "            idx = Movie_id_to_idx[liked_id]\n",
        "            scores += content_sim[idx]\n",
        "            valid_liked_count += 1\n",
        "        else: \n",
        "            print(f\"DEBUG: Liked Movie ID {liked_id} NOT found in Movie_id_to_idx!\")\n",
        "    return scores / max(1, len(user_likes))"
      ]
    },
    {
      "cell_type": "code",
      "execution_count": 13,
      "id": "3ae2548e",
      "metadata": {},
      "outputs": [],
      "source": [
        "def get_svd_scores(user_id):\n",
        "    scores = np.zeros(len(Movies))\n",
        "    for idx, Movie_id in enumerate(Movie_ids):\n",
        "        scores[idx] = svd.predict(user_id, Movie_id).est\n",
        "    min_svd = np.min(scores)\n",
        "    max_svd = np.max(scores)\n",
        "    if (max_svd - min_svd) > 0:\n",
        "        scores = (scores - min_svd) / (max_svd - min_svd)\n",
        "    else: # Handle case where all scores are the same\n",
        "        scores = np.zeros_like(scores)\n",
        "    return scores"
      ]
    },
    {
      "cell_type": "code",
      "execution_count": null,
      "id": "b62a56bd",
      "metadata": {},
      "outputs": [],
      "source": [
        "def recommend_Movies(user_id, user_likes, top_n=TOP_N):\n",
        "    content_scores = get_content_scores(user_likes)\n",
        "    svd_scores = get_svd_scores(user_id)\n",
        "    \n",
        "    # Check if scores are non-zero/meaningful\n",
        "    # print(f\"  Content scores (sum): {np.sum(content_scores):.2f}, (max): {np.max(content_scores):.2f}\")\n",
        "    # print(f\"  SVD scores (sum): {np.sum(svd_scores):.2f}, (max): {np.max(svd_scores):.2f}\")\n",
        "\n",
        "    final_scores = ALPHA * svd_scores + (1 - ALPHA) * content_scores\n",
        "    \n",
        "    if np.all(final_scores == 0):\n",
        "        print(f\"  WARNING: All final_scores are 0 for user {user_id}. This is a problem.\")\n",
        "        \n",
        "    \n",
        "    filtered = [i for i in range(len(Movie_ids)) if Movie_ids[i] not in user_likes]\n",
        "    \n",
        "    # print(f\"  Movies after filtering (count): {len(filtered)}\")\n",
        "    \n",
        "    top_indices = sorted(filtered, key=lambda i: final_scores[i], reverse=True)[:top_n]\n",
        "    \n",
        "    # Check if top_indices are valid\n",
        "    # print(f\"  Top indices: {top_indices}\")\n",
        "    # print(f\"  Scores for top indices: {[final_scores[i] for i in top_indices]}\")\n",
        "    \n",
        "    recommendations = Movies.iloc[top_indices][[\"MovieId\", \"title\", \"content\"]]\n",
        "    return recommendations.to_dict(orient=\"records\")"
      ]
    },
    {
      "cell_type": "code",
      "execution_count": 15,
      "id": "e283f7e3",
      "metadata": {},
      "outputs": [
        {
          "name": "stdout",
          "output_type": "stream",
          "text": [
            "0.21901639344262294\n"
          ]
        }
      ],
      "source": [
        "\n",
        "\n",
        "train_ratings, test_ratings = train_test_split(ratings, test_size=0.2, random_state=42)\n",
        "\n",
        "# Ensure we evaluate only on users present in both sets\n",
        "common_users = set(train_ratings[\"userId\"]) & set(test_ratings[\"userId\"])\n",
        "\n",
        "user_precisions = []\n",
        "\n",
        "for user in common_users:\n",
        "    user_train_likes = train_ratings[(train_ratings.userId == user)][\"MovieId\"].astype(int).tolist()\n",
        "    user_test_likes = test_ratings[(test_ratings.userId == user)][\"MovieId\"].astype(int).tolist()\n",
        "\n",
        "    if not user_train_likes or not user_test_likes:\n",
        "        continue\n",
        "    \n",
        "    recs = recommend_Movies(user, user_train_likes, top_n=TOP_N)\n",
        "    recommended_ids = [r[\"MovieId\"] for r in recs]\n",
        "\n",
        "    hits = len(set(recommended_ids) & set(user_test_likes))\n",
        "    precision = hits / TOP_N\n",
        "    user_precisions.append(precision)\n",
        "    \n",
        "average_precision = np.mean(user_precisions)\n",
        "print(average_precision) \n",
        "\n",
        "\n"
      ]
    },
    {
      "cell_type": "code",
      "execution_count": 16,
      "id": "ba54a387",
      "metadata": {},
      "outputs": [
        {
          "data": {
            "image/png": "[encoded data removed]",
            "text/plain": [
              "<Figure size 1000x600 with 1 Axes>"
            ]
          },
          "metadata": {},
          "output_type": "display_data"
        },
        {
          "name": "stdout",
          "output_type": "stream",
          "text": [
            "Average Precision@5: 0.2190\n"
          ]
        }
      ],
      "source": [
        "import matplotlib.pyplot as plt\n",
        "import seaborn as sns # Seaborn provides nicer defaults and KDE plots\n",
        "\n",
        "# Make sure TOP_N is defined somewhere\n",
        "TOP_N = 5 # Or whatever your actual TOP_N is\n",
        "\n",
        "# Assume user_precisions list is already populated from your evaluation loop\n",
        "# average_precision = np.mean(user_precisions)\n",
        "\n",
        "plt.figure(figsize=(10, 6)) # Make it a bit wider\n",
        "\n",
        "# Use seaborn's histplot for a combination of histogram and KDE\n",
        "# histplot arguments:\n",
        "# data: the data array\n",
        "# kde: True to draw a kernel density estimate\n",
        "# bins: number of bins\n",
        "# stat='density' (or 'probability'): normalizes the bars so they sum to 1\n",
        "# edgecolor: color of the bar outlines\n",
        "# color: fill color of the bars\n",
        "sns.histplot(user_precisions, bins=20, kde=True, stat='density',\n",
        "             edgecolor='black', color='skyblue', alpha=0.7)\n",
        "\n",
        "# Add a vertical line for the average precision\n",
        "plt.axvline(average_precision, color='red', linestyle='dashed', linewidth=2,\n",
        "            label=f'Average Precision@{TOP_N}: {average_precision:.4f}')\n",
        "\n",
        "plt.xlabel(f\"Precision@{TOP_N}\", fontsize=12)\n",
        "plt.ylabel(\"Density\", fontsize=12)\n",
        "plt.title(f\"Distribution of Precision@{TOP_N} for Hybrid Recommender\", fontsize=14)\n",
        "plt.grid(axis='y', linestyle='--', alpha=0.7) # Grid only on y-axis for cleaner look\n",
        "plt.legend(fontsize=10) # Display the label for the average line\n",
        "plt.tight_layout()\n",
        "plt.show()\n",
        "\n",
        "print(f\"Average Precision@{TOP_N}: {average_precision:.4f}\")"
      ]
    },
    {
      "cell_type": "code",
      "execution_count": null,
      "id": "8134f285",
      "metadata": {},
      "outputs": [
        {
          "name": "stdout",
          "output_type": "stream",
          "text": [
            "Final Hybrid (SVD + Content-Based) Model Saved.\n"
          ]
        }
      ],
      "source": [
        "# ------------------ SAVE MODELS ------------------\n",
        "with open(\"/Users/sarthakjain/Desktop/Movie recommendation/model /trained_models/trained_tfIDF.joblib\", \"wb\") as f:\n",
        "    joblib.dump(tfidf, f)\n",
        "\n",
        "with open(\"/Users/sarthakjain/Desktop/Movie recommendation/model /trained_models/trained_svd.joblib\", \"wb\") as f:\n",
        "    joblib.dump(svd, f)\n",
        "\n",
        "# For Content Similarity Matrix\n",
        "# Use np.save directly with the file path\n",
        "np_content_sim_path = \"/Users/sarthakjain/Desktop/Movie recommendation/model /trained_models/trained_content_model.npy\"\n",
        "np.save(np_content_sim_path, content_sim)\n",
        "\n",
        "mapping_data = {\n",
        "    'Movie_ids': Movie_ids,\n",
        "    'Movie_id_to_idx': Movie_id_to_idx,\n",
        "    'ALPHA': ALPHA, # Your best blending weight\n",
        "    'TOP_N': TOP_N # Your desired number of recommendations\n",
        "}\n",
        "\n",
        "joblib.dump(mapping_data, \"/Users/sarthakjain/Desktop/Movie recommendation/model /trained_models/recommender_mappings.joblib\")\n",
        "\n",
        "\n",
        "print(\"Final Hybrid (SVD + Content-Based) Model Saved.\")"
      ]
    },
    {
      "cell_type": "code",
      "execution_count": null,
      "id": "ce9a0fed",
      "metadata": {},
      "outputs": [],
      "source": [
        "import pandas as pd\n",
        "#function to return the most popular Movies from each genre as an initial recommendation\n",
        "ratings_dataframe=pd.read_csv('/Users/sarthakjain/Desktop/Movie recommendation/model /dataset/ratings.csv')\n",
        "Movies_dataframe=pd.read_csv('/Users/sarthakjain/Desktop/Movie recommendation/model /dataset/Movies.csv')\n",
        "# Step 3: Merge datasets\n",
        "data = pd.merge(ratings_dataframe, Movies_dataframe, on='MovieId')\n",
        "\n",
        "# Step 4: Explode genres (because each Movie can have multiple genres)\n",
        "data['genres'] = data['genres'].str.split('|')\n",
        "data_exploded = data.explode('genres')\n",
        "\n",
        "genre_counts = data_exploded.groupby('genres')['MovieId'].count().sort_values(ascending=False)\n",
        "\n",
        "# Step 6: Get top 5 genres\n",
        "top_5_genres = genre_counts.head(5).index.tolist()\n",
        "top_5_genres\n",
        "\n",
        "top_Movies = []\n",
        "for genre in top_5_genres:\n",
        "    genre_Movies = data_exploded[data_exploded['genres'] == genre]\n",
        "    most_rated = (\n",
        "        genre_Movies.groupby(['MovieId', 'title'])\n",
        "        .size()\n",
        "        .reset_index(name='num_ratings')\n",
        "        .sort_values(by='num_ratings', ascending=False)\n",
        "        .head(20)  # get more than 10 to allow for deduplication\n",
        "    )\n",
        "    \n",
        "    most_rated['genre'] = genre\n",
        "    top_Movies.append(most_rated)\n",
        "\n",
        "# Step 8: Combine and remove duplicates based on MovieId\n",
        "combined = pd.concat(top_Movies, ignore_index=True)\n",
        "    \n",
        "\n",
        "# Sort by number of ratings to keep the most popular one if duplicate\n",
        "combined_unique = combined.sort_values(by='num_ratings', ascending=False).drop_duplicates(subset='MovieId')\n",
        "\n",
        "# Keep only top 10 from the combined, but keep track of their genre\n",
        "final_Movies = combined_unique.head(10).reset_index(drop=True)\n",
        "\n",
        "final_Movies.to_csv('popular_Movies.csv', index=False)\n",
        "\n",
        "print(\"Top 10 popular unique Movies from top 5 genres saved successfully!\")\n",
        "\n"
      ]
    },
    {
      "cell_type": "code",
      "execution_count": null,
      "id": "8f590231",
      "metadata": {},
      "outputs": [],
      "source": [
        "#Creating a combined file for easier and faster use\n",
        "link_df=pd.read_csv('/Users/sarthakjain/Desktop/Movie recommendation/model /dataset/links.csv', names=['MovieId','imdbId','tmdbId'])\n",
        "\n",
        "link_df.drop(index=0, inplace=True)\n",
        "link_df['MovieId'] = pd.to_numeric(link_df['MovieId'], errors='coerce')\n",
        "\n",
        "\n",
        "\n",
        "\n",
        "Movies_data_for_recs_df = pd.merge(Movies, link_df[['MovieId', 'tmdbId']], on='MovieId', how='left')\n",
        "Movies_data_for_recs_df.to_csv('combined_data.csv', index=False)\n"
      ]
    }
  ],
  "metadata": {
    "kernelspec": {
      "display_name": "Python (TF ARM)",
      "language": "python",
      "name": "ml_env"
    },
    "language_info": {
      "codemirror_mode": {
        "name": "ipython",
        "version": 3
      },
      "file_extension": ".py",
      "mimetype": "text/x-python",
      "name": "python",
      "nbconvert_exporter": "python",
      "pygments_lexer": "ipython3",
      "version": "3.10.16"
    }
  },
  "nbformat": 4,
  "nbformat_minor": 5
}
